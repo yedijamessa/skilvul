{
 "cells": [
  {
   "cell_type": "code",
   "execution_count": 1,
   "id": "653a558f",
   "metadata": {},
   "outputs": [],
   "source": [
    "import pandas as pd"
   ]
  },
  {
   "cell_type": "markdown",
   "id": "a9409dd1",
   "metadata": {},
   "source": [
    "## Customer Interactions"
   ]
  },
  {
   "cell_type": "code",
   "execution_count": 2,
   "id": "dc35fc65",
   "metadata": {},
   "outputs": [
    {
     "data": {
      "text/html": [
       "<div>\n",
       "<style scoped>\n",
       "    .dataframe tbody tr th:only-of-type {\n",
       "        vertical-align: middle;\n",
       "    }\n",
       "\n",
       "    .dataframe tbody tr th {\n",
       "        vertical-align: top;\n",
       "    }\n",
       "\n",
       "    .dataframe thead th {\n",
       "        text-align: right;\n",
       "    }\n",
       "</style>\n",
       "<table border=\"1\" class=\"dataframe\">\n",
       "  <thead>\n",
       "    <tr style=\"text-align: right;\">\n",
       "      <th></th>\n",
       "      <th>customer_id</th>\n",
       "      <th>page_views</th>\n",
       "      <th>time_spent</th>\n",
       "    </tr>\n",
       "  </thead>\n",
       "  <tbody>\n",
       "    <tr>\n",
       "      <th>0</th>\n",
       "      <td>1</td>\n",
       "      <td>25</td>\n",
       "      <td>120</td>\n",
       "    </tr>\n",
       "    <tr>\n",
       "      <th>1</th>\n",
       "      <td>2</td>\n",
       "      <td>20</td>\n",
       "      <td>90</td>\n",
       "    </tr>\n",
       "    <tr>\n",
       "      <th>2</th>\n",
       "      <td>3</td>\n",
       "      <td>30</td>\n",
       "      <td>150</td>\n",
       "    </tr>\n",
       "    <tr>\n",
       "      <th>3</th>\n",
       "      <td>4</td>\n",
       "      <td>15</td>\n",
       "      <td>80</td>\n",
       "    </tr>\n",
       "    <tr>\n",
       "      <th>4</th>\n",
       "      <td>5</td>\n",
       "      <td>22</td>\n",
       "      <td>110</td>\n",
       "    </tr>\n",
       "    <tr>\n",
       "      <th>...</th>\n",
       "      <td>...</td>\n",
       "      <td>...</td>\n",
       "      <td>...</td>\n",
       "    </tr>\n",
       "    <tr>\n",
       "      <th>95</th>\n",
       "      <td>96</td>\n",
       "      <td>22</td>\n",
       "      <td>103</td>\n",
       "    </tr>\n",
       "    <tr>\n",
       "      <th>96</th>\n",
       "      <td>97</td>\n",
       "      <td>26</td>\n",
       "      <td>87</td>\n",
       "    </tr>\n",
       "    <tr>\n",
       "      <th>97</th>\n",
       "      <td>98</td>\n",
       "      <td>29</td>\n",
       "      <td>102</td>\n",
       "    </tr>\n",
       "    <tr>\n",
       "      <th>98</th>\n",
       "      <td>99</td>\n",
       "      <td>17</td>\n",
       "      <td>110</td>\n",
       "    </tr>\n",
       "    <tr>\n",
       "      <th>99</th>\n",
       "      <td>100</td>\n",
       "      <td>26</td>\n",
       "      <td>107</td>\n",
       "    </tr>\n",
       "  </tbody>\n",
       "</table>\n",
       "<p>100 rows × 3 columns</p>\n",
       "</div>"
      ],
      "text/plain": [
       "    customer_id  page_views  time_spent\n",
       "0             1          25         120\n",
       "1             2          20          90\n",
       "2             3          30         150\n",
       "3             4          15          80\n",
       "4             5          22         110\n",
       "..          ...         ...         ...\n",
       "95           96          22         103\n",
       "96           97          26          87\n",
       "97           98          29         102\n",
       "98           99          17         110\n",
       "99          100          26         107\n",
       "\n",
       "[100 rows x 3 columns]"
      ]
     },
     "execution_count": 2,
     "metadata": {},
     "output_type": "execute_result"
    }
   ],
   "source": [
    "df = pd.read_csv('customer_interactions.csv')\n",
    "df"
   ]
  },
  {
   "cell_type": "markdown",
   "id": "40c62bee",
   "metadata": {},
   "source": [
    "Let's start by checking for missing values."
   ]
  },
  {
   "cell_type": "code",
   "execution_count": 3,
   "id": "4385cb3a",
   "metadata": {},
   "outputs": [
    {
     "data": {
      "text/plain": [
       "customer_id    0\n",
       "page_views     0\n",
       "time_spent     0\n",
       "dtype: int64"
      ]
     },
     "execution_count": 3,
     "metadata": {},
     "output_type": "execute_result"
    }
   ],
   "source": [
    "missing_values = df.isnull().sum()\n",
    "missing_values"
   ]
  },
  {
   "cell_type": "markdown",
   "id": "10354fba",
   "metadata": {},
   "source": [
    "There are no missing values in the dataset, which simplifies our preprocessing steps."
   ]
  },
  {
   "cell_type": "markdown",
   "id": "1bda86b6",
   "metadata": {},
   "source": [
    "Outliers can be detected using various methods; one common approach is to look for values that fall outside of the Interquartile Range (IQR). Values below Q1 - 1.5 * IQR or above Q3 + 1.5 * IQR are typically considered outliers, where Q1 and Q3 are the 25th and 75th percentiles, respectively. "
   ]
  },
  {
   "cell_type": "code",
   "execution_count": 4,
   "id": "758b5b50",
   "metadata": {},
   "outputs": [
    {
     "data": {
      "text/plain": [
       "(Empty DataFrame\n",
       " Columns: [customer_id, page_views, time_spent]\n",
       " Index: [],\n",
       " (0, 3))"
      ]
     },
     "execution_count": 4,
     "metadata": {},
     "output_type": "execute_result"
    }
   ],
   "source": [
    "# Calculate the IQR for page_views and time_spent\n",
    "Q1 = df.quantile(0.25)\n",
    "Q3 = df.quantile(0.75)\n",
    "IQR = Q3 - Q1\n",
    "\n",
    "# Determine outliers using the IQR method\n",
    "outliers = ((df < (Q1 - 1.5 * IQR)) | (df > (Q3 + 1.5 * IQR))).any(axis=1)\n",
    "\n",
    "# Display the outliers\n",
    "outlier_data = df[outliers]\n",
    "outlier_data.head(), outlier_data.shape"
   ]
  },
  {
   "cell_type": "markdown",
   "id": "f627b92b",
   "metadata": {},
   "source": [
    "It appears that there are no outliers in the dataset according to the IQR method."
   ]
  },
  {
   "cell_type": "code",
   "execution_count": 5,
   "id": "64adc1a8",
   "metadata": {},
   "outputs": [],
   "source": [
    "import matplotlib.pyplot as plt\n",
    "import seaborn as sns"
   ]
  },
  {
   "cell_type": "code",
   "execution_count": 6,
   "id": "3e6a8bef",
   "metadata": {},
   "outputs": [
    {
     "data": {
      "text/html": [
       "<div>\n",
       "<style scoped>\n",
       "    .dataframe tbody tr th:only-of-type {\n",
       "        vertical-align: middle;\n",
       "    }\n",
       "\n",
       "    .dataframe tbody tr th {\n",
       "        vertical-align: top;\n",
       "    }\n",
       "\n",
       "    .dataframe thead th {\n",
       "        text-align: right;\n",
       "    }\n",
       "</style>\n",
       "<table border=\"1\" class=\"dataframe\">\n",
       "  <thead>\n",
       "    <tr style=\"text-align: right;\">\n",
       "      <th></th>\n",
       "      <th>customer_id</th>\n",
       "      <th>page_views</th>\n",
       "      <th>time_spent</th>\n",
       "    </tr>\n",
       "  </thead>\n",
       "  <tbody>\n",
       "    <tr>\n",
       "      <th>count</th>\n",
       "      <td>100.000000</td>\n",
       "      <td>100.000000</td>\n",
       "      <td>100.00000</td>\n",
       "    </tr>\n",
       "    <tr>\n",
       "      <th>mean</th>\n",
       "      <td>50.500000</td>\n",
       "      <td>21.770000</td>\n",
       "      <td>110.67000</td>\n",
       "    </tr>\n",
       "    <tr>\n",
       "      <th>std</th>\n",
       "      <td>29.011492</td>\n",
       "      <td>4.581154</td>\n",
       "      <td>21.56365</td>\n",
       "    </tr>\n",
       "    <tr>\n",
       "      <th>min</th>\n",
       "      <td>1.000000</td>\n",
       "      <td>15.000000</td>\n",
       "      <td>80.00000</td>\n",
       "    </tr>\n",
       "    <tr>\n",
       "      <th>25%</th>\n",
       "      <td>25.750000</td>\n",
       "      <td>18.000000</td>\n",
       "      <td>91.50000</td>\n",
       "    </tr>\n",
       "    <tr>\n",
       "      <th>50%</th>\n",
       "      <td>50.500000</td>\n",
       "      <td>22.000000</td>\n",
       "      <td>108.50000</td>\n",
       "    </tr>\n",
       "    <tr>\n",
       "      <th>75%</th>\n",
       "      <td>75.250000</td>\n",
       "      <td>25.000000</td>\n",
       "      <td>130.00000</td>\n",
       "    </tr>\n",
       "    <tr>\n",
       "      <th>max</th>\n",
       "      <td>100.000000</td>\n",
       "      <td>30.000000</td>\n",
       "      <td>150.00000</td>\n",
       "    </tr>\n",
       "  </tbody>\n",
       "</table>\n",
       "</div>"
      ],
      "text/plain": [
       "       customer_id  page_views  time_spent\n",
       "count   100.000000  100.000000   100.00000\n",
       "mean     50.500000   21.770000   110.67000\n",
       "std      29.011492    4.581154    21.56365\n",
       "min       1.000000   15.000000    80.00000\n",
       "25%      25.750000   18.000000    91.50000\n",
       "50%      50.500000   22.000000   108.50000\n",
       "75%      75.250000   25.000000   130.00000\n",
       "max     100.000000   30.000000   150.00000"
      ]
     },
     "execution_count": 6,
     "metadata": {},
     "output_type": "execute_result"
    }
   ],
   "source": [
    "# Descriptive statistics\n",
    "df.describe()"
   ]
  },
  {
   "cell_type": "markdown",
   "id": "eea7297f",
   "metadata": {},
   "source": [
    "- **The average number of page views per customer** is approximately 21.77, with a standard deviation of about 4.58. This indicates a moderate level of variability in the number of page views among customers.\n",
    "\n",
    "- **The average time spent by customers** is around 110 minutes, with a standard deviation of 21.56 minutes. This suggests that there's some variation in how long different customers engage with the content."
   ]
  },
  {
   "cell_type": "code",
   "execution_count": 7,
   "id": "1e9c0b23",
   "metadata": {},
   "outputs": [
    {
     "data": {
      "text/plain": [
       "Text(0.5, 1.0, 'Distribution of Time Spent')"
      ]
     },
     "execution_count": 7,
     "metadata": {},
     "output_type": "execute_result"
    },
    {
     "data": {
      "image/png": "[encoded data removed]",
      "text/plain": [
       "<Figure size 864x360 with 2 Axes>"
      ]
     },
     "metadata": {},
     "output_type": "display_data"
    }
   ],
   "source": [
    "# Visualization setup\n",
    "sns.set(style=\"whitegrid\")\n",
    "\n",
    "# Distribution plots\n",
    "plt.figure(figsize=(12, 5))\n",
    "\n",
    "plt.subplot(1, 2, 1)\n",
    "sns.histplot(df['page_views'], kde=True)\n",
    "plt.title('Distribution of Page Views')\n",
    "\n",
    "plt.subplot(1, 2, 2)\n",
    "sns.histplot(df['time_spent'], kde=True, color='orange')\n",
    "plt.title('Distribution of Time Spent')\n"
   ]
  },
  {
   "cell_type": "markdown",
   "id": "33e8f7f0",
   "metadata": {},
   "source": [
    "- **Page Views Distribution:** The histogram for page views suggests a distribution that is skewed to the right, with the majority of customers viewing a number of pages clustered on the lower end of the scale. The peak of the distribution appears to be around the 20-25 page views mark, with fewer customers viewing more than that range.\n",
    "- **Time Spent Distribution:** The time spent histogram indicates a distribution that is also right-skewed, with a concentration of customers spending less time and fewer customers reaching the higher time spent values. The bulk of customers spend time in a range centered slightly above 100 minutes, with the frequency decreasing as time spent increases."
   ]
  },
  {
   "cell_type": "code",
   "execution_count": 8,
   "id": "c900941e",
   "metadata": {},
   "outputs": [
    {
     "data": {
      "text/plain": [
       "Text(0.5, 1.0, 'Page Views vs. Time Spent')"
      ]
     },
     "execution_count": 8,
     "metadata": {},
     "output_type": "execute_result"
    },
    {
     "data": {
      "image/png": "[encoded data removed]",
      "text/plain": [
       "<Figure size 432x360 with 1 Axes>"
      ]
     },
     "metadata": {},
     "output_type": "display_data"
    }
   ],
   "source": [
    "# Scatter plot\n",
    "plt.figure(figsize=(6, 5))\n",
    "sns.scatterplot(data=df, x='page_views', y='time_spent')\n",
    "plt.title('Page Views vs. Time Spent')"
   ]
  },
  {
   "cell_type": "markdown",
   "id": "5dc2c1bb",
   "metadata": {},
   "source": [
    "**Page Views vs. Time Spent:** The scatter plot presents a distribution of points that does not indicate a clear or strong linear relationship between page views and time spent. While there is a suggestion of a positive trend — with some indication that customers who view more pages might spend slightly more time on the site — the data points are quite dispersed. This dispersion implies variability in customer behavior; some customers spend a lot of time with fewer page views, while others may browse through many pages quickly. The variability suggests that factors other than just the number of page views may influence the time spent on the site."
   ]
  },
  {
   "cell_type": "code",
   "execution_count": 9,
   "id": "5d241796",
   "metadata": {},
   "outputs": [
    {
     "data": {
      "text/html": [
       "<div>\n",
       "<style scoped>\n",
       "    .dataframe tbody tr th:only-of-type {\n",
       "        vertical-align: middle;\n",
       "    }\n",
       "\n",
       "    .dataframe tbody tr th {\n",
       "        vertical-align: top;\n",
       "    }\n",
       "\n",
       "    .dataframe thead th {\n",
       "        text-align: right;\n",
       "    }\n",
       "</style>\n",
       "<table border=\"1\" class=\"dataframe\">\n",
       "  <thead>\n",
       "    <tr style=\"text-align: right;\">\n",
       "      <th></th>\n",
       "      <th>customer_id</th>\n",
       "      <th>page_views</th>\n",
       "      <th>time_spent</th>\n",
       "    </tr>\n",
       "  </thead>\n",
       "  <tbody>\n",
       "    <tr>\n",
       "      <th>customer_id</th>\n",
       "      <td>1.000000</td>\n",
       "      <td>0.013034</td>\n",
       "      <td>-0.006838</td>\n",
       "    </tr>\n",
       "    <tr>\n",
       "      <th>page_views</th>\n",
       "      <td>0.013034</td>\n",
       "      <td>1.000000</td>\n",
       "      <td>0.110269</td>\n",
       "    </tr>\n",
       "    <tr>\n",
       "      <th>time_spent</th>\n",
       "      <td>-0.006838</td>\n",
       "      <td>0.110269</td>\n",
       "      <td>1.000000</td>\n",
       "    </tr>\n",
       "  </tbody>\n",
       "</table>\n",
       "</div>"
      ],
      "text/plain": [
       "             customer_id  page_views  time_spent\n",
       "customer_id     1.000000    0.013034   -0.006838\n",
       "page_views      0.013034    1.000000    0.110269\n",
       "time_spent     -0.006838    0.110269    1.000000"
      ]
     },
     "execution_count": 9,
     "metadata": {},
     "output_type": "execute_result"
    }
   ],
   "source": [
    "# Correlation analysis\n",
    "df.corr()"
   ]
  },
  {
   "cell_type": "markdown",
   "id": "f68cb487",
   "metadata": {},
   "source": [
    "**Correlation between Page Views and Time Spent:** The actual correlation between page views and time spent is around 0.110, according to the correlation matrix provided. This suggests a weak positive relationship between the number of pages viewed and the time spent by customers. Contrary to the initial assertion, there isn't a strong or highly positive correlation; instead, the relationship is quite modest, indicating other factors may be at play influencing the time customers spend on the site."
   ]
  },
  {
   "cell_type": "markdown",
   "id": "1f84a5a4",
   "metadata": {},
   "source": [
    "## Product Details"
   ]
  },
  {
   "cell_type": "code",
   "execution_count": 12,
   "id": "8588240b",
   "metadata": {},
   "outputs": [
    {
     "data": {
      "text/html": [
       "<div>\n",
       "<style scoped>\n",
       "    .dataframe tbody tr th:only-of-type {\n",
       "        vertical-align: middle;\n",
       "    }\n",
       "\n",
       "    .dataframe tbody tr th {\n",
       "        vertical-align: top;\n",
       "    }\n",
       "\n",
       "    .dataframe thead th {\n",
       "        text-align: right;\n",
       "    }\n",
       "</style>\n",
       "<table border=\"1\" class=\"dataframe\">\n",
       "  <thead>\n",
       "    <tr style=\"text-align: right;\">\n",
       "      <th></th>\n",
       "      <th>product_id</th>\n",
       "      <th>category</th>\n",
       "      <th>price</th>\n",
       "      <th>ratings</th>\n",
       "    </tr>\n",
       "  </thead>\n",
       "  <tbody>\n",
       "    <tr>\n",
       "      <th>0</th>\n",
       "      <td>101</td>\n",
       "      <td>Electronics</td>\n",
       "      <td>500</td>\n",
       "      <td>4.5</td>\n",
       "    </tr>\n",
       "    <tr>\n",
       "      <th>1</th>\n",
       "      <td>102</td>\n",
       "      <td>Clothing</td>\n",
       "      <td>50</td>\n",
       "      <td>3.8</td>\n",
       "    </tr>\n",
       "    <tr>\n",
       "      <th>2</th>\n",
       "      <td>103</td>\n",
       "      <td>Home &amp; Kitchen</td>\n",
       "      <td>200</td>\n",
       "      <td>4.2</td>\n",
       "    </tr>\n",
       "    <tr>\n",
       "      <th>3</th>\n",
       "      <td>104</td>\n",
       "      <td>Beauty</td>\n",
       "      <td>30</td>\n",
       "      <td>4.0</td>\n",
       "    </tr>\n",
       "    <tr>\n",
       "      <th>4</th>\n",
       "      <td>105</td>\n",
       "      <td>Electronics</td>\n",
       "      <td>800</td>\n",
       "      <td>4.8</td>\n",
       "    </tr>\n",
       "    <tr>\n",
       "      <th>5</th>\n",
       "      <td>106</td>\n",
       "      <td>Automotive</td>\n",
       "      <td>855</td>\n",
       "      <td>4.2</td>\n",
       "    </tr>\n",
       "    <tr>\n",
       "      <th>6</th>\n",
       "      <td>107</td>\n",
       "      <td>Books</td>\n",
       "      <td>783</td>\n",
       "      <td>3.8</td>\n",
       "    </tr>\n",
       "    <tr>\n",
       "      <th>7</th>\n",
       "      <td>108</td>\n",
       "      <td>Sports</td>\n",
       "      <td>727</td>\n",
       "      <td>3.6</td>\n",
       "    </tr>\n",
       "    <tr>\n",
       "      <th>8</th>\n",
       "      <td>109</td>\n",
       "      <td>Music</td>\n",
       "      <td>379</td>\n",
       "      <td>3.1</td>\n",
       "    </tr>\n",
       "    <tr>\n",
       "      <th>9</th>\n",
       "      <td>110</td>\n",
       "      <td>Toys</td>\n",
       "      <td>29</td>\n",
       "      <td>3.5</td>\n",
       "    </tr>\n",
       "  </tbody>\n",
       "</table>\n",
       "</div>"
      ],
      "text/plain": [
       "   product_id        category  price  ratings\n",
       "0         101     Electronics    500      4.5\n",
       "1         102        Clothing     50      3.8\n",
       "2         103  Home & Kitchen    200      4.2\n",
       "3         104          Beauty     30      4.0\n",
       "4         105     Electronics    800      4.8\n",
       "5         106      Automotive    855      4.2\n",
       "6         107           Books    783      3.8\n",
       "7         108          Sports    727      3.6\n",
       "8         109           Music    379      3.1\n",
       "9         110            Toys     29      3.5"
      ]
     },
     "execution_count": 12,
     "metadata": {},
     "output_type": "execute_result"
    }
   ],
   "source": [
    "df = pd.read_csv('product_details.csv', delimiter=',')\n",
    "df"
   ]
  },
  {
   "cell_type": "markdown",
   "id": "8f65c11a",
   "metadata": {},
   "source": [
    "Let's start by removing the unnecessary columns and then checking for missing values."
   ]
  },
  {
   "cell_type": "code",
   "execution_count": 14,
   "id": "a2726386",
   "metadata": {},
   "outputs": [
    {
     "data": {
      "text/plain": [
       "product_id    0\n",
       "category      0\n",
       "price         0\n",
       "ratings       0\n",
       "dtype: int64"
      ]
     },
     "execution_count": 14,
     "metadata": {},
     "output_type": "execute_result"
    }
   ],
   "source": [
    "# Check for missing values in the cleaned dataset\n",
    "missing_values_cleaned = df.isnull().sum()\n",
    "missing_values_cleaned"
   ]
  },
  {
   "cell_type": "markdown",
   "id": "8c1ee230",
   "metadata": {},
   "source": [
    "There are no missing values in the cleaned dataset. The next step is to examine the 'price' and 'ratings' columns for outliers."
   ]
  },
  {
   "cell_type": "code",
   "execution_count": 15,
   "id": "d9d6c77a",
   "metadata": {},
   "outputs": [
    {
     "name": "stderr",
     "output_type": "stream",
     "text": [
      "C:\\Users\\ASUS\\AppData\\Local\\Temp\\ipykernel_26652\\468450953.py:7: FutureWarning: Automatic reindexing on DataFrame vs Series comparisons is deprecated and will raise ValueError in a future version. Do `left, right = left.align(right, axis=1, copy=False)` before e.g. `left == right`\n",
      "  outliers_product = ((df < (Q1_product - 1.5 * IQR_product)) | (df > (Q3_product + 1.5 * IQR_product))).any(axis=1)\n"
     ]
    },
    {
     "data": {
      "text/plain": [
       "(Empty DataFrame\n",
       " Columns: [product_id, category, price, ratings]\n",
       " Index: [],\n",
       " (0, 4))"
      ]
     },
     "execution_count": 15,
     "metadata": {},
     "output_type": "execute_result"
    }
   ],
   "source": [
    "# Calculate the IQR for price and ratings\n",
    "Q1_product = df.quantile(0.25)\n",
    "Q3_product = df.quantile(0.75)\n",
    "IQR_product = Q3_product - Q1_product\n",
    "\n",
    "# Determine outliers using the IQR method for price and ratings\n",
    "outliers_product = ((df < (Q1_product - 1.5 * IQR_product)) | (df > (Q3_product + 1.5 * IQR_product))).any(axis=1)\n",
    "\n",
    "# Display the outliers\n",
    "outlier_data_product = df[outliers_product]\n",
    "outlier_data_product.head(), outlier_data_product.shape"
   ]
  },
  {
   "cell_type": "markdown",
   "id": "9dc4d6ee",
   "metadata": {},
   "source": [
    "There are no outliers in the product_details.csv dataset according to the IQR method."
   ]
  },
  {
   "cell_type": "code",
   "execution_count": 16,
   "id": "596895c6",
   "metadata": {},
   "outputs": [
    {
     "data": {
      "text/html": [
       "<div>\n",
       "<style scoped>\n",
       "    .dataframe tbody tr th:only-of-type {\n",
       "        vertical-align: middle;\n",
       "    }\n",
       "\n",
       "    .dataframe tbody tr th {\n",
       "        vertical-align: top;\n",
       "    }\n",
       "\n",
       "    .dataframe thead th {\n",
       "        text-align: right;\n",
       "    }\n",
       "</style>\n",
       "<table border=\"1\" class=\"dataframe\">\n",
       "  <thead>\n",
       "    <tr style=\"text-align: right;\">\n",
       "      <th></th>\n",
       "      <th>product_id</th>\n",
       "      <th>price</th>\n",
       "      <th>ratings</th>\n",
       "    </tr>\n",
       "  </thead>\n",
       "  <tbody>\n",
       "    <tr>\n",
       "      <th>count</th>\n",
       "      <td>10.00000</td>\n",
       "      <td>10.000000</td>\n",
       "      <td>10.000000</td>\n",
       "    </tr>\n",
       "    <tr>\n",
       "      <th>mean</th>\n",
       "      <td>105.50000</td>\n",
       "      <td>435.300000</td>\n",
       "      <td>3.950000</td>\n",
       "    </tr>\n",
       "    <tr>\n",
       "      <th>std</th>\n",
       "      <td>3.02765</td>\n",
       "      <td>342.485052</td>\n",
       "      <td>0.499444</td>\n",
       "    </tr>\n",
       "    <tr>\n",
       "      <th>min</th>\n",
       "      <td>101.00000</td>\n",
       "      <td>29.000000</td>\n",
       "      <td>3.100000</td>\n",
       "    </tr>\n",
       "    <tr>\n",
       "      <th>25%</th>\n",
       "      <td>103.25000</td>\n",
       "      <td>87.500000</td>\n",
       "      <td>3.650000</td>\n",
       "    </tr>\n",
       "    <tr>\n",
       "      <th>50%</th>\n",
       "      <td>105.50000</td>\n",
       "      <td>439.500000</td>\n",
       "      <td>3.900000</td>\n",
       "    </tr>\n",
       "    <tr>\n",
       "      <th>75%</th>\n",
       "      <td>107.75000</td>\n",
       "      <td>769.000000</td>\n",
       "      <td>4.200000</td>\n",
       "    </tr>\n",
       "    <tr>\n",
       "      <th>max</th>\n",
       "      <td>110.00000</td>\n",
       "      <td>855.000000</td>\n",
       "      <td>4.800000</td>\n",
       "    </tr>\n",
       "  </tbody>\n",
       "</table>\n",
       "</div>"
      ],
      "text/plain": [
       "       product_id       price    ratings\n",
       "count    10.00000   10.000000  10.000000\n",
       "mean    105.50000  435.300000   3.950000\n",
       "std       3.02765  342.485052   0.499444\n",
       "min     101.00000   29.000000   3.100000\n",
       "25%     103.25000   87.500000   3.650000\n",
       "50%     105.50000  439.500000   3.900000\n",
       "75%     107.75000  769.000000   4.200000\n",
       "max     110.00000  855.000000   4.800000"
      ]
     },
     "execution_count": 16,
     "metadata": {},
     "output_type": "execute_result"
    }
   ],
   "source": [
    "df.describe()"
   ]
  },
  {
   "cell_type": "markdown",
   "id": "a47ff76d",
   "metadata": {},
   "source": [
    "**Descriptive Statistics**\n",
    "\n",
    "- **Product Prices:** The average price of products is listed as 435.30 units with a high standard deviation of 342.48 units, indicating a significant spread in product prices.\n",
    "- **Product Ratings:** The average product rating is 3.95 on a scale up to 5, with a standard deviation of 0.49, suggesting a relatively tight clustering of ratings near the 4 mark."
   ]
  },
  {
   "cell_type": "code",
   "execution_count": 17,
   "id": "92e75e66",
   "metadata": {},
   "outputs": [
    {
     "data": {
      "text/plain": [
       "Text(0.5, 1.0, 'Distribution of Product Ratings')"
      ]
     },
     "execution_count": 17,
     "metadata": {},
     "output_type": "execute_result"
    },
    {
     "data": {
      "image/png": "[encoded data removed]",
      "text/plain": [
       "<Figure size 1008x432 with 2 Axes>"
      ]
     },
     "metadata": {},
     "output_type": "display_data"
    }
   ],
   "source": [
    "# Plotting setup\n",
    "plt.figure(figsize=(14, 6))\n",
    "\n",
    "# Distribution plot for price\n",
    "plt.subplot(1, 2, 1)\n",
    "sns.histplot(df['price'], kde=True)\n",
    "plt.title('Distribution of Product Prices')\n",
    "\n",
    "# Distribution plot for ratings\n",
    "plt.subplot(1, 2, 2)\n",
    "sns.histplot(df['ratings'], kde=True, color='green')\n",
    "plt.title('Distribution of Product Ratings')"
   ]
  },
  {
   "cell_type": "markdown",
   "id": "b3b6bb81",
   "metadata": {},
   "source": [
    "**Distribution Analysis**\n",
    "- **Price Distribution:** The histogram shows that product prices are widely distributed, indicating a diverse range of product prices. The distribution does not appear to be heavily skewed in either direction, suggesting a relatively even spread of product prices.\n",
    "- **Ratings Distribution:**  The distribution of ratings is somewhat left-skewed, with a concentration of products having higher ratings closer to 5 and fewer products with lower ratings."
   ]
  },
  {
   "cell_type": "code",
   "execution_count": 18,
   "id": "65ed23d5",
   "metadata": {},
   "outputs": [
    {
     "data": {
      "text/plain": [
       "(array([0, 1, 2, 3, 4, 5, 6, 7, 8]),\n",
       " [Text(0, 0, 'Electronics'),\n",
       "  Text(1, 0, 'Clothing'),\n",
       "  Text(2, 0, 'Home & Kitchen'),\n",
       "  Text(3, 0, 'Beauty'),\n",
       "  Text(4, 0, 'Automotive'),\n",
       "  Text(5, 0, 'Books'),\n",
       "  Text(6, 0, 'Sports'),\n",
       "  Text(7, 0, 'Music'),\n",
       "  Text(8, 0, 'Toys')])"
      ]
     },
     "execution_count": 18,
     "metadata": {},
     "output_type": "execute_result"
    },
    {
     "data": {
      "image/png": "[encoded data removed]",
      "text/plain": [
       "<Figure size 1008x432 with 2 Axes>"
      ]
     },
     "metadata": {},
     "output_type": "display_data"
    }
   ],
   "source": [
    "# Box plots for price and ratings by category\n",
    "plt.figure(figsize=(14, 6))\n",
    "\n",
    "plt.subplot(1, 2, 1)\n",
    "sns.boxplot(x='category', y='price', data=df)\n",
    "plt.title('Box Plot of Prices by Category')\n",
    "plt.xticks(rotation=45)\n",
    "\n",
    "plt.subplot(1, 2, 2)\n",
    "sns.boxplot(x='category', y='ratings', data=df)\n",
    "plt.title('Box Plot of Ratings by Category')\n",
    "plt.xticks(rotation=45)"
   ]
  },
  {
   "cell_type": "markdown",
   "id": "25b65916",
   "metadata": {},
   "source": [
    "**Box Plot Analysis by Category**\n",
    "- **Price Variation by Category:** The box plots show that there is a substantial variation in prices across different product categories, with some categories exhibiting a wider range of prices than others.\n",
    "- **Ratings Variation by Category:** The box plots for ratings show that while there is some variation in ratings across categories, the median ratings are consistently high across all categories, with the interquartile range suggesting that most products are rated between roughly 3.65 and 4.20."
   ]
  },
  {
   "cell_type": "code",
   "execution_count": 19,
   "id": "85495205",
   "metadata": {},
   "outputs": [
    {
     "data": {
      "text/html": [
       "<div>\n",
       "<style scoped>\n",
       "    .dataframe tbody tr th:only-of-type {\n",
       "        vertical-align: middle;\n",
       "    }\n",
       "\n",
       "    .dataframe tbody tr th {\n",
       "        vertical-align: top;\n",
       "    }\n",
       "\n",
       "    .dataframe thead th {\n",
       "        text-align: right;\n",
       "    }\n",
       "</style>\n",
       "<table border=\"1\" class=\"dataframe\">\n",
       "  <thead>\n",
       "    <tr style=\"text-align: right;\">\n",
       "      <th></th>\n",
       "      <th>price</th>\n",
       "      <th>ratings</th>\n",
       "    </tr>\n",
       "  </thead>\n",
       "  <tbody>\n",
       "    <tr>\n",
       "      <th>price</th>\n",
       "      <td>1.000000</td>\n",
       "      <td>0.328457</td>\n",
       "    </tr>\n",
       "    <tr>\n",
       "      <th>ratings</th>\n",
       "      <td>0.328457</td>\n",
       "      <td>1.000000</td>\n",
       "    </tr>\n",
       "  </tbody>\n",
       "</table>\n",
       "</div>"
      ],
      "text/plain": [
       "            price   ratings\n",
       "price    1.000000  0.328457\n",
       "ratings  0.328457  1.000000"
      ]
     },
     "execution_count": 19,
     "metadata": {},
     "output_type": "execute_result"
    }
   ],
   "source": [
    "df[['price', 'ratings']].corr()"
   ]
  },
  {
   "cell_type": "markdown",
   "id": "29c3b4e6",
   "metadata": {},
   "source": [
    "The correlation is approximately 0.328, indicating a modest positive relationship between price and ratings. This suggests that higher-priced products have a slight tendency to be rated more favorably, but the correlation is not as strong as previously indicated."
   ]
  },
  {
   "cell_type": "markdown",
   "id": "7ae60c74",
   "metadata": {},
   "source": [
    "## Purchase History"
   ]
  },
  {
   "cell_type": "code",
   "execution_count": 21,
   "id": "7052e950",
   "metadata": {},
   "outputs": [
    {
     "data": {
      "text/html": [
       "<div>\n",
       "<style scoped>\n",
       "    .dataframe tbody tr th:only-of-type {\n",
       "        vertical-align: middle;\n",
       "    }\n",
       "\n",
       "    .dataframe tbody tr th {\n",
       "        vertical-align: top;\n",
       "    }\n",
       "\n",
       "    .dataframe thead th {\n",
       "        text-align: right;\n",
       "    }\n",
       "</style>\n",
       "<table border=\"1\" class=\"dataframe\">\n",
       "  <thead>\n",
       "    <tr style=\"text-align: right;\">\n",
       "      <th></th>\n",
       "      <th>customer_id</th>\n",
       "      <th>product_id</th>\n",
       "      <th>purchase_date</th>\n",
       "    </tr>\n",
       "  </thead>\n",
       "  <tbody>\n",
       "    <tr>\n",
       "      <th>0</th>\n",
       "      <td>1</td>\n",
       "      <td>101</td>\n",
       "      <td>2023-01-01</td>\n",
       "    </tr>\n",
       "    <tr>\n",
       "      <th>1</th>\n",
       "      <td>1</td>\n",
       "      <td>105</td>\n",
       "      <td>2023-01-05</td>\n",
       "    </tr>\n",
       "    <tr>\n",
       "      <th>2</th>\n",
       "      <td>2</td>\n",
       "      <td>102</td>\n",
       "      <td>2023-01-02</td>\n",
       "    </tr>\n",
       "    <tr>\n",
       "      <th>3</th>\n",
       "      <td>3</td>\n",
       "      <td>103</td>\n",
       "      <td>2023-01-03</td>\n",
       "    </tr>\n",
       "    <tr>\n",
       "      <th>4</th>\n",
       "      <td>4</td>\n",
       "      <td>104</td>\n",
       "      <td>2023-01-04</td>\n",
       "    </tr>\n",
       "    <tr>\n",
       "      <th>...</th>\n",
       "      <td>...</td>\n",
       "      <td>...</td>\n",
       "      <td>...</td>\n",
       "    </tr>\n",
       "    <tr>\n",
       "      <th>1001</th>\n",
       "      <td>27</td>\n",
       "      <td>104</td>\n",
       "      <td>2023-01-18 00:00:00</td>\n",
       "    </tr>\n",
       "    <tr>\n",
       "      <th>1002</th>\n",
       "      <td>49</td>\n",
       "      <td>105</td>\n",
       "      <td>2023-09-17 00:00:00</td>\n",
       "    </tr>\n",
       "    <tr>\n",
       "      <th>1003</th>\n",
       "      <td>72</td>\n",
       "      <td>102</td>\n",
       "      <td>2023-05-07 00:00:00</td>\n",
       "    </tr>\n",
       "    <tr>\n",
       "      <th>1004</th>\n",
       "      <td>55</td>\n",
       "      <td>107</td>\n",
       "      <td>2023-09-22 00:00:00</td>\n",
       "    </tr>\n",
       "    <tr>\n",
       "      <th>1005</th>\n",
       "      <td>97</td>\n",
       "      <td>107</td>\n",
       "      <td>2023-02-17 00:00:00</td>\n",
       "    </tr>\n",
       "  </tbody>\n",
       "</table>\n",
       "<p>1006 rows × 3 columns</p>\n",
       "</div>"
      ],
      "text/plain": [
       "      customer_id  product_id        purchase_date\n",
       "0               1         101           2023-01-01\n",
       "1               1         105           2023-01-05\n",
       "2               2         102           2023-01-02\n",
       "3               3         103           2023-01-03\n",
       "4               4         104           2023-01-04\n",
       "...           ...         ...                  ...\n",
       "1001           27         104  2023-01-18 00:00:00\n",
       "1002           49         105  2023-09-17 00:00:00\n",
       "1003           72         102  2023-05-07 00:00:00\n",
       "1004           55         107  2023-09-22 00:00:00\n",
       "1005           97         107  2023-02-17 00:00:00\n",
       "\n",
       "[1006 rows x 3 columns]"
      ]
     },
     "execution_count": 21,
     "metadata": {},
     "output_type": "execute_result"
    }
   ],
   "source": [
    "df = pd.read_csv('purchase_history.csv', delimiter=',')\n",
    "df"
   ]
  },
  {
   "cell_type": "code",
   "execution_count": 23,
   "id": "cbad76ef",
   "metadata": {},
   "outputs": [
    {
     "data": {
      "text/plain": [
       "customer_id      0\n",
       "product_id       0\n",
       "purchase_date    0\n",
       "dtype: int64"
      ]
     },
     "execution_count": 23,
     "metadata": {},
     "output_type": "execute_result"
    }
   ],
   "source": [
    "# Check for missing values in the cleaned dataset\n",
    "df.isnull().sum()"
   ]
  },
  {
   "cell_type": "markdown",
   "id": "f5bf3068",
   "metadata": {},
   "source": [
    "For categorical data and date fields, outlier detection isn't straightforward or typically necessary. However, we can still ensure the data integrity by checking for any anomalies in these fields, such as:\n",
    "\n",
    "- Invalid IDs: Ensure customer_id and product_id are within expected ranges.\n",
    "- Date Consistency: Check that purchase_date falls within a reasonable and expected timeframe."
   ]
  },
  {
   "cell_type": "code",
   "execution_count": 24,
   "id": "4ea6a2da",
   "metadata": {},
   "outputs": [
    {
     "data": {
      "text/plain": [
       "(array([  1,   2,   3,   4,   5,  45,  48,  65,  68,  10,  84,  22,  37,\n",
       "         88,  71,  89,  13,  59,  66,  40,  47,  82,  38,  26,  78,  73,\n",
       "         21,  81,  70,  80,  83, 100,  50,  30,  20,  15,  33,  58,  32,\n",
       "         75,  24,  36,  76,  56,  29,  35,  54,   6,  39,  18,  43,  42,\n",
       "         12,  92,  85,  69,   7,  77,  53,  79,  16,  14,  86,  49,  96,\n",
       "         95,  51,  94,  99,  74,  11,  44,  60,  63,  28,  87,  52,  55,\n",
       "         57,  61,  31,  25,  41,  27,  67,  62,  97,  17,  34,  72,  19,\n",
       "         90,  91,  46,  98,   9,  23,  93,  64,   8], dtype=int64),\n",
       " array([101, 105, 102, 103, 104, 108, 106, 109, 107, 110], dtype=int64),\n",
       " Empty DataFrame\n",
       " Columns: [customer_id, product_id, purchase_date]\n",
       " Index: [])"
      ]
     },
     "execution_count": 24,
     "metadata": {},
     "output_type": "execute_result"
    }
   ],
   "source": [
    "# Check for any anomalies in customer_id and product_id\n",
    "customer_id_anomalies = df['customer_id'].unique()\n",
    "product_id_anomalies = df['product_id'].unique()\n",
    "\n",
    "# Check for date consistency\n",
    "df['purchase_date'] = pd.to_datetime(df['purchase_date'], errors='coerce')\n",
    "invalid_dates = df[df['purchase_date'].isna()]\n",
    "\n",
    "customer_id_anomalies, product_id_anomalies, invalid_dates"
   ]
  },
  {
   "cell_type": "markdown",
   "id": "993b798f",
   "metadata": {},
   "source": [
    "The checks reveal the following:\n",
    "\n",
    "- **Customer IDs Anomalies:** There are a wide range of customer_id values present in the array, ranging from 1 to 100. This indicates that there is a large and diverse set of customers in the dataset. There don't appear to be any anomalies in terms of sequential numeric IDs, though without knowing the expected range of customer_id, it's difficult to say for sure if all are valid. Assuming customer_id should be a continuous range from 1 to 100 with no gaps, the IDs present seem to be in order.\n",
    "- **Product IDs Anomalies:** The product_id values range from 101 to 110, which suggests that there are 10 unique products that customers have purchased. There are no anomalies here as the product IDs are a small, consecutive range which likely represents the set of products available for purchase.\n",
    "- **Date Consistency:** The purchase_date field has been converted to datetime format with no errors (coerce), and there are no missing or invalid date entries, as indicated by the empty DataFrame for invalid_dates. This means that all purchase date entries in the dataset are valid dates."
   ]
  },
  {
   "cell_type": "code",
   "execution_count": 25,
   "id": "1165ef5f",
   "metadata": {},
   "outputs": [
    {
     "data": {
      "text/plain": [
       "1     20\n",
       "68    16\n",
       "4     16\n",
       "70    15\n",
       "80    15\n",
       "      ..\n",
       "28     6\n",
       "15     5\n",
       "96     5\n",
       "56     5\n",
       "16     4\n",
       "Name: customer_id, Length: 100, dtype: int64"
      ]
     },
     "execution_count": 25,
     "metadata": {},
     "output_type": "execute_result"
    }
   ],
   "source": [
    "# Convert 'purchase_date' to datetime for analysis\n",
    "df['purchase_date'] = pd.to_datetime(df['purchase_date'])\n",
    "\n",
    "# Descriptive statistics for categorical data\n",
    "customer_id_counts = df['customer_id'].value_counts()\n",
    "product_id_counts = df['product_id'].value_counts()\n",
    "\n",
    "customer_id_counts"
   ]
  },
  {
   "cell_type": "markdown",
   "id": "5a61a59a",
   "metadata": {},
   "source": [
    "**Customer Purchase Frequency**\n",
    "- The dataset indicates that customer ID 1 has made the most purchases (20 purchases)"
   ]
  },
  {
   "cell_type": "code",
   "execution_count": 26,
   "id": "2703fb0b",
   "metadata": {},
   "outputs": [
    {
     "data": {
      "text/plain": [
       "102    117\n",
       "104    114\n",
       "108    106\n",
       "103    102\n",
       "106    101\n",
       "105     98\n",
       "101     97\n",
       "109     94\n",
       "110     89\n",
       "107     88\n",
       "Name: product_id, dtype: int64"
      ]
     },
     "execution_count": 26,
     "metadata": {},
     "output_type": "execute_result"
    }
   ],
   "source": [
    "product_id_counts"
   ]
  },
  {
   "cell_type": "markdown",
   "id": "35e02c45",
   "metadata": {},
   "source": [
    "**Product Purchase Frequency**\n",
    "- **Most Frequently Purchased Products:** Product ID 102 is the most frequently purchased item, with 117 purchases. It is closely followed by product ID 104 with 114 purchases and product ID 108 with 106 purchases. These products appear to be the most popular or in-demand items among customers.\n",
    "\n",
    "- **Middle Range Purchases:** Products with IDs 103 and 106 have also been purchased over 100 times (102 and 101 times, respectively), which suggests a moderate level of demand compared to the most popular items.\n",
    "\n",
    "- **Least Frequently Purchased Products:** On the lower end of the frequency count, product ID 105 was purchased 98 times, product ID 101 was purchased 97 times, product ID 109 was purchased 94 times, and product ID 110 was purchased 89 times, with product ID 107 being the least frequently purchased at 88 times. While these products are less popular than the top ones, they still have a significant number of purchases.\n",
    "\n"
   ]
  },
  {
   "cell_type": "code",
   "execution_count": 27,
   "id": "cddec937",
   "metadata": {},
   "outputs": [
    {
     "data": {
      "text/plain": [
       "1     96\n",
       "3     94\n",
       "10    92\n",
       "5     89\n",
       "9     88\n",
       "12    86\n",
       "7     85\n",
       "4     85\n",
       "6     80\n",
       "8     78\n",
       "2     73\n",
       "11    60\n",
       "Name: purchase_month, dtype: int64"
      ]
     },
     "execution_count": 27,
     "metadata": {},
     "output_type": "execute_result"
    }
   ],
   "source": [
    "# Analyzing purchase dates\n",
    "df['purchase_month'] = df['purchase_date'].dt.month\n",
    "purchase_month_counts = df['purchase_month'].value_counts()\n",
    "purchase_month_counts"
   ]
  },
  {
   "cell_type": "markdown",
   "id": "dd19707c",
   "metadata": {},
   "source": [
    "The purchase_month_counts variable provides a distribution of purchases across different months. The first column represents the month number (1 through 12), and the second column shows the number of purchases made in that month. The purchase frequency varies by month, with the highest number of purchases occurring in January (Month 1) with 96 transactions, and the lowest in November (Month 11) with 60 transactions."
   ]
  },
  {
   "cell_type": "code",
   "execution_count": 28,
   "id": "2b01502e",
   "metadata": {},
   "outputs": [
    {
     "data": {
      "image/png": "[encoded data removed]",
      "text/plain": [
       "<Figure size 1008x432 with 3 Axes>"
      ]
     },
     "metadata": {},
     "output_type": "display_data"
    }
   ],
   "source": [
    "# Plotting\n",
    "plt.figure(figsize=(14, 6))The purchase_month_counts variable provides a distribution of purchases across different months. The first column represents the month number (1 through 12), and the second column shows the number of purchases made in that month. The purchase frequency varies by month, with the highest number of purchases occurring in January (Month 1) with 96 transactions, and the lowest in November (Month 11) with 60 transactions.\n",
    "\n",
    "# Plot for customer purchase frequency\n",
    "plt.subplot(1, 3, 1)\n",
    "sns.barplot(x=customer_id_counts.index, y=customer_id_counts.values)\n",
    "plt.title('Customer Purchase Frequency')\n",
    "plt.xlabel('Customer ID')\n",
    "plt.ylabel('Number of Purchases')\n",
    "\n",
    "# Plot for product purchase frequency\n",
    "plt.subplot(1, 3, 2)\n",
    "sns.barplot(x=product_id_counts.index, y=product_id_counts.values)\n",
    "plt.title('Product Purchase Frequency')\n",
    "plt.xlabel('Product ID')\n",
    "plt.ylabel('Number of Purchases')\n",
    "\n",
    "# Plot for purchase frequency by month\n",
    "plt.subplot(1, 3, 3)\n",
    "sns.barplot(x=purchase_month_counts.index, y=purchase_month_counts.values)\n",
    "plt.title('Purchase Frequency by Month')\n",
    "plt.xlabel('Month')\n",
    "plt.ylabel('Number of Purchases')\n",
    "\n",
    "plt.tight_layout()"
   ]
  },
  {
   "cell_type": "code",
   "execution_count": null,
   "id": "5dc3a578",
   "metadata": {},
   "outputs": [],
   "source": []
  }
 ],
 "metadata": {
  "kernelspec": {
   "display_name": "Python 3 (ipykernel)",
   "language": "python",
   "name": "python3"
  },
  "language_info": {
   "codemirror_mode": {
    "name": "ipython",
    "version": 3
   },
   "file_extension": ".py",
   "mimetype": "text/x-python",
   "name": "python",
   "nbconvert_exporter": "python",
   "pygments_lexer": "ipython3",
   "version": "3.8.8"
  }
 },
 "nbformat": 4,
 "nbformat_minor": 5
}
